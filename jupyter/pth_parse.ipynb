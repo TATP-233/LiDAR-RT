{
 "cells": [
  {
   "cell_type": "code",
   "execution_count": null,
   "metadata": {},
   "outputs": [],
   "source": [
    "import torch\n",
    "import matplotlib\n",
    "import numpy as np\n",
    "import open3d as o3d\n",
    "\n",
    "import os\n",
    "import sys\n",
    "sys.path.append(os.path.abspath(\"..\"))\n",
    "from lib.utils.image_utils import color_mapping\n"
   ]
  },
  {
   "cell_type": "code",
   "execution_count": 13,
   "metadata": {},
   "outputs": [],
   "source": [
    "model_path = \"../output/default/test/scene_ks3/models/model_it_30000.pth\"\n",
    "model_params, first_iter = torch.load(model_path)\n",
    "(active_sh_degree, _xyz, _features_dc, \n",
    " _features_rest, _scaling, _rotation, \n",
    " _opacity, max_radii2D, xyz_gradient_accum, \n",
    " denom, opt_dict, spatial_lr_scale)= model_params[0]"
   ]
  },
  {
   "cell_type": "code",
   "execution_count": null,
   "metadata": {},
   "outputs": [],
   "source": [
    "xyz = _xyz.detach().cpu().numpy()\n",
    "\n",
    "z = _xyz[:, 2].detach().cpu()\n",
    "max_q = torch.quantile(z, 0.9)\n",
    "min_q = torch.quantile(z, 0.1)\n",
    "z = (z - min_q) / (max_q - min_q)\n",
    "z = z.clamp(0, 1)\n",
    "\n",
    "colormap=matplotlib.colormaps[\"rainbow\"]\n",
    "color = color_mapping(z, colormap)\n",
    "\n",
    "# save as ply\n",
    "pcd = o3d.geometry.PointCloud()\n",
    "pcd.points = o3d.utility.Vector3dVector(xyz)\n",
    "pcd.colors = o3d.utility.Vector3dVector(color.cpu().numpy().astype(np.float64))\n",
    "\n",
    "o3d.io.write_point_cloud(f\"xyz_it_{first_iter}.ply\", pcd)\n"
   ]
  }
 ],
 "metadata": {
  "kernelspec": {
   "display_name": "lidar-rt",
   "language": "python",
   "name": "python3"
  },
  "language_info": {
   "codemirror_mode": {
    "name": "ipython",
    "version": 3
   },
   "file_extension": ".py",
   "mimetype": "text/x-python",
   "name": "python",
   "nbconvert_exporter": "python",
   "pygments_lexer": "ipython3",
   "version": "3.11.9"
  }
 },
 "nbformat": 4,
 "nbformat_minor": 2
}
