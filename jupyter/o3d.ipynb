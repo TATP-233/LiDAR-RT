{
 "cells": [
  {
   "cell_type": "code",
   "execution_count": 4,
   "metadata": {},
   "outputs": [],
   "source": [
    "import os\n",
    "import matplotlib\n",
    "import numpy as np\n",
    "import open3d as o3d\n",
    "import torch\n",
    "from lib.utils.image_utils import color_mapping"
   ]
  },
  {
   "cell_type": "code",
   "execution_count": 8,
   "metadata": {},
   "outputs": [],
   "source": [
    "def process_pcd(pcd_path, colormap=matplotlib.colormaps[\"rainbow\"], centroid=None):\n",
    "    pcd = o3d.io.read_point_cloud(pcd_path)\n",
    "    \n",
    "    # 将点云数据转换为PyTorch张量\n",
    "    points = torch.from_numpy(np.asarray(pcd.points))\n",
    "    points = points[torch.norm(points, dim=1) > 1e-6]\n",
    "\n",
    "    if centroid is None:\n",
    "        # 计算点云重心\n",
    "        centroid = torch.mean(points, dim=0)\n",
    "    \n",
    "    # 将点云移动到重心位置\n",
    "    points = points - centroid\n",
    "    \n",
    "    # 更新点云数据\n",
    "    pcd.points = o3d.utility.Vector3dVector(points.numpy())\n",
    "    points = torch.from_numpy(np.asarray(pcd.points))\n",
    "\n",
    "    z = points[:, 2]\n",
    "    max_q = torch.quantile(z, 0.9)\n",
    "    min_q = torch.quantile(z, 0.1)\n",
    "    z = (z - min_q) / (max_q - min_q)\n",
    "    z = z.clamp(0, 1)\n",
    "\n",
    "    color = color_mapping(z, colormap)\n",
    "    pcd.colors = o3d.utility.Vector3dVector(color.cpu().numpy().astype(np.float64))\n",
    "\n",
    "    return pcd, centroid"
   ]
  },
  {
   "cell_type": "code",
   "execution_count": null,
   "metadata": {},
   "outputs": [],
   "source": [
    "pcd_gt_path = \"output/default/test/scene_ks3/evals/30000/test/pointclouds/1947_gt_pcd.ply\"\n",
    "pcd_render_path = pcd_gt_path.replace(\"_gt_pcd.ply\", \"_rendered_pcd.ply\")\n",
    "\n",
    "pcd_gt, centroid = process_pcd(pcd_gt_path)\n",
    "pcd_render, centroid = process_pcd(pcd_render_path, centroid=centroid, colormap=matplotlib.colormaps[\"viridis\"])\n",
    "\n",
    "output_path = \"output/default/test/scene_ks3/evals/30000/test/pointclouds/output\"\n",
    "pcd_gt_save_path = os.path.join(output_path, pcd_gt_path.split(\"/\")[-1])\n",
    "pcd_render_save_path = os.path.join(output_path, pcd_render_path.split(\"/\")[-1])\n",
    "\n",
    "o3d.io.write_point_cloud(pcd_gt_save_path, pcd_gt)\n",
    "o3d.io.write_point_cloud(pcd_render_save_path, pcd_render)\n"
   ]
  },
  {
   "cell_type": "code",
   "execution_count": null,
   "metadata": {},
   "outputs": [],
   "source": [
    "list(matplotlib.colormaps.keys())"
   ]
  }
 ],
 "metadata": {
  "kernelspec": {
   "display_name": "lidar-rt",
   "language": "python",
   "name": "python3"
  },
  "language_info": {
   "codemirror_mode": {
    "name": "ipython",
    "version": 3
   },
   "file_extension": ".py",
   "mimetype": "text/x-python",
   "name": "python",
   "nbconvert_exporter": "python",
   "pygments_lexer": "ipython3",
   "version": "3.11.9"
  }
 },
 "nbformat": 4,
 "nbformat_minor": 2
}
