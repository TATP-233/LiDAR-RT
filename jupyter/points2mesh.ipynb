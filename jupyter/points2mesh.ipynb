{
 "cells": [
  {
   "cell_type": "code",
   "execution_count": 43,
   "metadata": {},
   "outputs": [],
   "source": [
    "import os\n",
    "import tqdm\n",
    "import torch\n",
    "import numpy as np\n",
    "import open3d as o3d\n",
    "\n",
    "import matplotlib\n",
    "import matplotlib.pyplot as plt\n",
    "\n",
    "import sys\n",
    "sys.path.append(os.path.abspath(\"..\"))\n",
    "from lib.dataloader import kitti_loader\n",
    "from lib.dataloader.kitti_loader import load_lidar_point\n",
    "from lib.utils.image_utils import color_mapping\n",
    "\n",
    "\n",
    "def vis_pcd(points, point_size=0.3, colormap=matplotlib.colormaps[\"rainbow\"]):\n",
    "   \n",
    "    # 计算点云重心\n",
    "    centroid = np.mean(points, axis=0)\n",
    "    \n",
    "    # 将点云移动到重心位置\n",
    "    points = points - centroid\n",
    "    \n",
    "    pcd = o3d.geometry.PointCloud()\n",
    "    # 更新点云数据\n",
    "    pcd.points = o3d.utility.Vector3dVector(points)\n",
    "\n",
    "    z = points[:, 2]\n",
    "    max_q = np.quantile(z, 0.9)\n",
    "    min_q = np.quantile(z, 0.1)\n",
    "    z = (z - min_q) / (max_q - min_q)\n",
    "    z = np.clip(z, 0, 1)\n",
    "\n",
    "    color = color_mapping(z, colormap)\n",
    "    pcd.colors = o3d.utility.Vector3dVector(color)\n",
    "\n",
    "    vis = o3d.visualization.Visualizer()\n",
    "    vis.create_window()\n",
    "    vis.add_geometry(pcd)\n",
    "    \n",
    "    render_option = vis.get_render_option()\n",
    "    render_option.point_size = point_size\n",
    "    render_option.background_color = np.array([1.0, 1.0, 1.0])\n",
    "\n",
    "    vis.run()\n",
    "    vis.destroy_window()"
   ]
  },
  {
   "cell_type": "code",
   "execution_count": null,
   "metadata": {},
   "outputs": [],
   "source": [
    "class Args:\n",
    "    def __init__(self):\n",
    "        self.data_dir = \"../data/kitti360\"\n",
    "        self.data_type = \"KITTI\"\n",
    "        self.frame_length = [1908, 1971]\n",
    "        self.eval_frames = [1921, 1934, 1947, 1960]\n",
    "        self.scene_id = \"ks3\"\n",
    "        self.dynamic = False\n",
    "\n",
    "args = Args()\n",
    "\n",
    "seq = \"0000\"\n",
    "full_seq = f\"2013_05_28_drive_{seq}_sync\"\n",
    "lidar_points = load_lidar_point(\n",
    "    os.path.join(args.data_dir, \"data_3d_raw\", full_seq, \"velodyne_points\", \"data\"),\n",
    "    args.frame_length,\n",
    ")\n",
    "\n",
    "lidar, bbox = kitti_loader.load_kitti_raw(args.data_dir, args)\n",
    "\n",
    "all_points = []\n",
    "for frame in range(args.frame_length[0], args.frame_length[1] + 1):\n",
    "    points = lidar_points[frame]\n",
    "    all_points.append(points)\n",
    "all_points = np.concatenate(all_points, axis=0)"
   ]
  },
  {
   "cell_type": "code",
   "execution_count": null,
   "metadata": {},
   "outputs": [],
   "source": [
    "all_points_world = []\n",
    "for frame in range(args.frame_length[0], args.frame_length[1] + 1):\n",
    "    points, intensity = lidar.inverse_projection(frame)\n",
    "    points_world = (lidar.sensor2world[1908] @ torch.cat([points, torch.ones_like(points[:, :1])], dim=-1).T).T\n",
    "    all_points_world.append(points_world)\n",
    "all_points_world = np.concatenate(all_points_world, axis=0)\n",
    "vis_pcd(all_points_world, point_size=0.5)\n"
   ]
  },
  {
   "cell_type": "code",
   "execution_count": null,
   "metadata": {},
   "outputs": [],
   "source": [
    "frame = 1938\n",
    "points, intensity = lidar.inverse_projection(frame)\n",
    "# vis_pcd(points.detach().cpu().numpy(), point_size=1.)\n",
    "points.shape"
   ]
  },
  {
   "cell_type": "code",
   "execution_count": null,
   "metadata": {},
   "outputs": [],
   "source": [
    "135960 / 32"
   ]
  }
 ],
 "metadata": {
  "kernelspec": {
   "display_name": "lidar-rt",
   "language": "python",
   "name": "python3"
  },
  "language_info": {
   "codemirror_mode": {
    "name": "ipython",
    "version": 3
   },
   "file_extension": ".py",
   "mimetype": "text/x-python",
   "name": "python",
   "nbconvert_exporter": "python",
   "pygments_lexer": "ipython3",
   "version": "3.11.9"
  }
 },
 "nbformat": 4,
 "nbformat_minor": 2
}
