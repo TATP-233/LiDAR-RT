{
 "cells": [
  {
   "cell_type": "code",
   "execution_count": null,
   "metadata": {},
   "outputs": [],
   "source": [
    "import os\n",
    "import sys\n",
    "sys.path.append(os.path.abspath(\"..\"))\n",
    "\n",
    "import torch\n",
    "import numpy as np\n",
    "import open3d as o3d\n",
    "from lib.utils.chamfer3D.dist_chamfer_3D import chamfer_3DDist"
   ]
  },
  {
   "cell_type": "code",
   "execution_count": 16,
   "metadata": {},
   "outputs": [],
   "source": [
    "def compute_fscore(dist1, dist2, threshold=0.001):\n",
    "    \"\"\"\n",
    "    Calculates the F-score between two point clouds with the corresponding threshold value.\n",
    "    :param dist1: Batch, N-Points\n",
    "    :param dist2: Batch, N-Points\n",
    "    :param th: float\n",
    "    :return: fscore, precision, recall\n",
    "    \"\"\"\n",
    "    # NB : In this depo, dist1 and dist2 are squared pointcloud euclidean\n",
    "    # distances, so you should adapt the threshold accordingly.\n",
    "    precision_1 = torch.mean((dist1 < threshold).float(), dim=1)\n",
    "    precision_2 = torch.mean((dist2 < threshold).float(), dim=1)\n",
    "    fscore = 2 * precision_1 * precision_2 / (precision_1 + precision_2)\n",
    "    fscore[torch.isnan(fscore)] = 0\n",
    "    return [fscore, precision_1, precision_2]\n",
    "\n",
    "def compute_points_metrics(gt, pred):\n",
    "    chamLoss = chamfer_3DDist()\n",
    "    dist1, dist2, idx1, idx2 = chamLoss(\n",
    "        torch.FloatTensor(gt[None, ...]).cuda(),\n",
    "        torch.FloatTensor(pred[None, ...]).cuda(),\n",
    "    )\n",
    "    chamfer_dis = dist1.mean() + dist2.mean()\n",
    "    chamfer_dis = chamfer_dis.cpu()\n",
    "    f_score, precision, recall = compute_fscore(dist1, dist2, threshold=0.05)\n",
    "    f_score = f_score.cpu()[0]\n",
    "    return [chamfer_dis, f_score]\n"
   ]
  },
  {
   "cell_type": "code",
   "execution_count": null,
   "metadata": {},
   "outputs": [],
   "source": [
    "id = 1947\n",
    "pcd_gt_path = f\"../output/default/test/scene_ks3/evals/30000/test/pointclouds/{id}_gt_pcd.ply\"\n",
    "pcd_render_path = pcd_gt_path.replace(\"_gt_pcd.ply\", \"_rendered_pcd.ply\")\n",
    "\n",
    "pcd_gt = o3d.io.read_point_cloud(pcd_gt_path)\n",
    "pcd_render = o3d.io.read_point_cloud(pcd_render_path)\n",
    "\n",
    "points_gt = torch.from_numpy(np.asarray(pcd_gt.points, dtype=np.float32))\n",
    "points_render = torch.from_numpy(np.asarray(pcd_render.points, dtype=np.float32))\n",
    "\n",
    "# points_gt = points_gt[torch.norm(points_gt, dim=1) > 1e-6]\n",
    "# points_render = points_render[torch.norm(points_render, dim=1) > 1e-6]\n",
    "\n",
    "print(points_gt.shape)\n",
    "print(points_render.shape)\n",
    "\n",
    "chamfer_dis, f_score = compute_points_metrics(points_gt, points_render)\n",
    "print(chamfer_dis)\n",
    "print(f_score)"
   ]
  },
  {
   "cell_type": "code",
   "execution_count": null,
   "metadata": {},
   "outputs": [],
   "source": [
    "chamfer_dis, f_score = compute_points_metrics(points_gt, points_render)\n",
    "print(chamfer_dis)\n",
    "print(f_score)"
   ]
  }
 ],
 "metadata": {
  "kernelspec": {
   "display_name": "lidar-rt",
   "language": "python",
   "name": "python3"
  },
  "language_info": {
   "codemirror_mode": {
    "name": "ipython",
    "version": 3
   },
   "file_extension": ".py",
   "mimetype": "text/x-python",
   "name": "python",
   "nbconvert_exporter": "python",
   "pygments_lexer": "ipython3",
   "version": "3.11.9"
  }
 },
 "nbformat": 4,
 "nbformat_minor": 2
}
